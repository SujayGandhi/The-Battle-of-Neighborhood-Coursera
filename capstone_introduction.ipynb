{
 "cells": [
  {
   "cell_type": "markdown",
   "metadata": {
    "collapsed": true
   },
   "source": [
    "# The Battle of Neighborhoods"
   ]
  },
  {
   "cell_type": "markdown",
   "metadata": {},
   "source": [
    "# Introduction"
   ]
  },
  {
   "cell_type": "markdown",
   "metadata": {},
   "source": [
    "On an average americans take nearly 2.29 Billion trips in US every year and nearly 79 million international tourists visit US.In this Project we explore three US cities tourists regularly visit which are New York, Los Angeles and Seattle Morning coffee is one of the essentials for whole day sight seeing. So as a tourist, you would want to stay in hotel that has high density of Coffee places around. The problem we aim to solve is to analyze the cafe locations in the major US cities and find the best place for our tourist so that he can enjoy his morning coffee. Our main target are tourists with a taste of best US coffee. "
   ]
  },
  {
   "cell_type": "markdown",
   "metadata": {},
   "source": [
    "# Interested Audience"
   ]
  },
  {
   "cell_type": "markdown",
   "metadata": {},
   "source": [
    "Tourists and Tourism companies can get help from this analysis."
   ]
  },
  {
   "cell_type": "markdown",
   "metadata": {},
   "source": [
    "# Data Section"
   ]
  },
  {
   "cell_type": "markdown",
   "metadata": {},
   "source": [
    "I will use the FourSquare API to collect data about locations of Pizza stores in 3 major US cities which are: New York,NY, Seattle, WA, Los angeles, CA. I have lived in these three cities in US, and these are one of the most crowded tourist places in US. "
   ]
  },
  {
   "cell_type": "code",
   "execution_count": null,
   "metadata": {},
   "outputs": [],
   "source": []
  }
 ],
 "metadata": {
  "kernelspec": {
   "display_name": "Python 3.6",
   "language": "python",
   "name": "python3"
  },
  "language_info": {
   "codemirror_mode": {
    "name": "ipython",
    "version": 3
   },
   "file_extension": ".py",
   "mimetype": "text/x-python",
   "name": "python",
   "nbconvert_exporter": "python",
   "pygments_lexer": "ipython3",
   "version": "3.6.9"
  }
 },
 "nbformat": 4,
 "nbformat_minor": 1
}
